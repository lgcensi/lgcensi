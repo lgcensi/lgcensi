{
 "cells": [
  {
   "cell_type": "markdown",
   "id": "5d92bfda",
   "metadata": {
    "slideshow": {
     "slide_type": "slide"
    }
   },
   "source": [
    "<div style=\"text-align: center\"> <h2> Exercícios </h2> </div>"
   ]
  },
  {
   "cell_type": "markdown",
   "id": "1af63e35",
   "metadata": {
    "slideshow": {
     "slide_type": "slide"
    }
   },
   "source": [
    "<div style=\"text-align: center\"> <h2> Responda abaixo os tipos de variáveis</h2> </div>"
   ]
  },
  {
   "cell_type": "code",
   "execution_count": null,
   "id": "68d833fe",
   "metadata": {
    "slideshow": {
     "slide_type": "fragment"
    }
   },
   "outputs": [],
   "source": [
    "mensagem = 'Oi, tudo bem?'\n",
    "n = 10 \n",
    "pi = 3.14 "
   ]
  },
  {
   "cell_type": "code",
   "execution_count": null,
   "id": "2150a1de",
   "metadata": {},
   "outputs": [],
   "source": [
    "type(n)"
   ]
  },
  {
   "cell_type": "code",
   "execution_count": null,
   "id": "223452e6",
   "metadata": {},
   "outputs": [],
   "source": [
    "type(pi)"
   ]
  },
  {
   "cell_type": "code",
   "execution_count": null,
   "id": "5a42f526",
   "metadata": {},
   "outputs": [],
   "source": [
    "type(mensagem)"
   ]
  },
  {
   "cell_type": "markdown",
   "id": "aafcb39e",
   "metadata": {
    "slideshow": {
     "slide_type": "subslide"
    }
   },
   "source": [
    "<div style=\"text-align: left\"><p><strong>Atenção</strong><br>O que acontece ao cadastrar uma variável com número na frente?</p></div>\n",
    "\n",
    "0n = 1 "
   ]
  },
  {
   "cell_type": "code",
   "execution_count": null,
   "id": "2e01de26",
   "metadata": {},
   "outputs": [],
   "source": [
    "0mensagem = 'Oi, tudo bem?'"
   ]
  },
  {
   "cell_type": "code",
   "execution_count": null,
   "id": "497966c1",
   "metadata": {
    "scrolled": true,
    "slideshow": {
     "slide_type": "slide"
    }
   },
   "outputs": [],
   "source": [
    "\"Para adicionar uma imagem utilize o código abaixo\"\n",
    "from IPython.display import Image\n",
    "from IPython.core.display import HTML \n",
    "Image(url= \"https://blogdosdados.com/wp-content/uploads/2020/06/palavras-chave-em-Python.png\")"
   ]
  },
  {
   "cell_type": "code",
   "execution_count": null,
   "id": "f3fef7ba",
   "metadata": {},
   "outputs": [],
   "source": [
    "from IPython.display import Image\n",
    "from IPython.core.display import HTML \n",
    "Image(url= \"https://upload.wikimedia.org/wikipedia/pt/thumb/c/cd/Nazar%C3%A9_Confusa.jpg/250px-Nazar%C3%A9_Confusa.jpg\")"
   ]
  },
  {
   "cell_type": "markdown",
   "id": "ee38702d",
   "metadata": {
    "slideshow": {
     "slide_type": "slide"
    }
   },
   "source": [
    "<div style=\"text-align: center\"> <h2>Como realizar uma declaração de variável múltipla?</h2> </div>"
   ]
  },
  {
   "cell_type": "code",
   "execution_count": null,
   "id": "689a08e4",
   "metadata": {},
   "outputs": [],
   "source": []
  },
  {
   "cell_type": "code",
   "execution_count": null,
   "id": "8fc59427",
   "metadata": {},
   "outputs": [],
   "source": [
    "a1, a2, a3 = 'Lucas', 'Gonzaga', 'Censi'"
   ]
  },
  {
   "cell_type": "code",
   "execution_count": null,
   "id": "52058d17",
   "metadata": {},
   "outputs": [],
   "source": [
    "a1"
   ]
  },
  {
   "cell_type": "code",
   "execution_count": null,
   "id": "2feb8ad7",
   "metadata": {},
   "outputs": [],
   "source": [
    "a2"
   ]
  },
  {
   "cell_type": "code",
   "execution_count": null,
   "id": "2166e329",
   "metadata": {},
   "outputs": [],
   "source": [
    "a3"
   ]
  },
  {
   "cell_type": "markdown",
   "id": "22623066",
   "metadata": {
    "slideshow": {
     "slide_type": "slide"
    }
   },
   "source": [
    "<div style=\"text-align: center\"> <h2>Teste o modo script no jupyter e em outra IDE</h2> </div>"
   ]
  },
  {
   "cell_type": "code",
   "execution_count": null,
   "id": "d0c6afb9",
   "metadata": {
    "slideshow": {
     "slide_type": "fragment"
    }
   },
   "outputs": [],
   "source": [
    "5\n",
    "x= 5\n",
    "x + 1"
   ]
  },
  {
   "cell_type": "code",
   "execution_count": null,
   "id": "7f21d042",
   "metadata": {},
   "outputs": [],
   "source": [
    "x = 76\n",
    "x + 8"
   ]
  },
  {
   "cell_type": "markdown",
   "id": "df52c479",
   "metadata": {
    "slideshow": {
     "slide_type": "subslide"
    }
   },
   "source": [
    "<div style=\"text-align: left\">\n",
    "No script não recebe nenhuma saída. Uma expressão, por conta própria, não tem efeito visível no modo script. O Python,\n",
    "na verdade, avalia a expressão, mas não exibe o valor a menos que você especifique:.</div>"
   ]
  },
  {
   "cell_type": "code",
   "execution_count": null,
   "id": "a7013ad2",
   "metadata": {
    "slideshow": {
     "slide_type": "fragment"
    }
   },
   "outputs": [],
   "source": [
    "x = 5\n",
    "print('x + 1')"
   ]
  },
  {
   "cell_type": "markdown",
   "id": "5bc35aa2",
   "metadata": {
    "slideshow": {
     "slide_type": "slide"
    }
   },
   "source": [
    "<div style=\"text-align: center\"> <h2>Operações com strings</h2> </div>"
   ]
  },
  {
   "cell_type": "code",
   "execution_count": null,
   "id": "efc72853",
   "metadata": {
    "slideshow": {
     "slide_type": "fragment"
    }
   },
   "outputs": [],
   "source": [
    "primeiro = 'o'"
   ]
  },
  {
   "cell_type": "code",
   "execution_count": null,
   "id": "cd49e9e6",
   "metadata": {
    "slideshow": {
     "slide_type": "fragment"
    }
   },
   "outputs": [],
   "source": [
    "segundo = 'i'"
   ]
  },
  {
   "cell_type": "raw",
   "id": "ec154239",
   "metadata": {
    "slideshow": {
     "slide_type": "fragment"
    }
   },
   "source": [
    "\"\"\"Quanto dá primeiro + segundo?\"\"\""
   ]
  },
  {
   "cell_type": "code",
   "execution_count": null,
   "id": "6738bf71",
   "metadata": {},
   "outputs": [],
   "source": [
    "primeiro + segundo"
   ]
  },
  {
   "cell_type": "markdown",
   "id": "e5a69b43",
   "metadata": {
    "slideshow": {
     "slide_type": "subslide"
    }
   },
   "source": [
    "<div style=\"text-align: left\"><p>\n",
    "Execute a multiplicação do primeiro pelo segundo</p></div>"
   ]
  },
  {
   "cell_type": "code",
   "execution_count": null,
   "id": "4aa50db1",
   "metadata": {},
   "outputs": [],
   "source": [
    "primeiro * segundo"
   ]
  },
  {
   "cell_type": "code",
   "execution_count": null,
   "id": "f60f4eaa",
   "metadata": {},
   "outputs": [],
   "source": [
    "primeiro*3"
   ]
  },
  {
   "cell_type": "code",
   "execution_count": null,
   "id": "82e0ba76",
   "metadata": {},
   "outputs": [],
   "source": [
    "\"\"\"Converta os números: 2 para float e 2.8 para inteiro\"\"\"\n",
    "\n"
   ]
  },
  {
   "cell_type": "code",
   "execution_count": null,
   "id": "fe6ddf20",
   "metadata": {},
   "outputs": [],
   "source": [
    "float(2)"
   ]
  },
  {
   "cell_type": "code",
   "execution_count": null,
   "id": "d5a52268",
   "metadata": {},
   "outputs": [],
   "source": [
    "int(2.8)"
   ]
  },
  {
   "cell_type": "code",
   "execution_count": null,
   "id": "1b4939ef",
   "metadata": {
    "slideshow": {
     "slide_type": "fragment"
    }
   },
   "outputs": [],
   "source": [
    "# Retorna o valor absoluto de -10\n"
   ]
  },
  {
   "cell_type": "code",
   "execution_count": null,
   "id": "0c463e10",
   "metadata": {},
   "outputs": [],
   "source": [
    "abs(-10)"
   ]
  },
  {
   "cell_type": "code",
   "execution_count": null,
   "id": "12446a2b",
   "metadata": {
    "slideshow": {
     "slide_type": "fragment"
    }
   },
   "outputs": [],
   "source": [
    "# Retorna o valor com arredondamento de 8.7890 em duas casas decimais\n"
   ]
  },
  {
   "cell_type": "code",
   "execution_count": null,
   "id": "a5e36caa",
   "metadata": {},
   "outputs": [],
   "source": [
    "round(8.7890,2)"
   ]
  },
  {
   "cell_type": "code",
   "execution_count": null,
   "id": "e2e1df93",
   "metadata": {
    "slideshow": {
     "slide_type": "fragment"
    }
   },
   "outputs": [],
   "source": [
    "# 2 elevado a 5 dá quanto?\n"
   ]
  },
  {
   "cell_type": "code",
   "execution_count": null,
   "id": "4968a904",
   "metadata": {},
   "outputs": [],
   "source": [
    "pow(2,5)"
   ]
  },
  {
   "cell_type": "markdown",
   "id": "f9aedd78",
   "metadata": {
    "slideshow": {
     "slide_type": "fragment"
    }
   },
   "source": [
    "Desenvolva um algoritmo e um fluxograma para um\n",
    "programa que permita com que o usuário insira quatro\n",
    "números. \n",
    "O programa deverá imprimir a média ponderada, sabendo-se que os pesos são respectivamente: 1, 2, 3 e 4"
   ]
  },
  {
   "cell_type": "code",
   "execution_count": null,
   "id": "6c59fab0",
   "metadata": {
    "scrolled": true
   },
   "outputs": [],
   "source": [
    "n1 = float(input(\"Digite o primeiro número:\"))"
   ]
  },
  {
   "cell_type": "code",
   "execution_count": null,
   "id": "73b65a3f",
   "metadata": {},
   "outputs": [],
   "source": [
    "n2 = float(input(\"Digite o segundo número:\"))"
   ]
  },
  {
   "cell_type": "code",
   "execution_count": null,
   "id": "f4745ad6",
   "metadata": {},
   "outputs": [],
   "source": [
    "n3 = float(input(\"Digite o terceiro número:\"))"
   ]
  },
  {
   "cell_type": "code",
   "execution_count": null,
   "id": "5ee2e203",
   "metadata": {},
   "outputs": [],
   "source": [
    "n4 = float(input(\"Digite o quarto número:\"))"
   ]
  },
  {
   "cell_type": "code",
   "execution_count": null,
   "id": "5353c3f1",
   "metadata": {},
   "outputs": [],
   "source": [
    "media = (n1*1+n2*2+n3*3+n4*4)/(1+2+3+4)\n",
    "\n",
    "print(media)"
   ]
  },
  {
   "cell_type": "code",
   "execution_count": null,
   "id": "c855a1eb",
   "metadata": {},
   "outputs": [],
   "source": [
    "print(\"A média ponderada é de {}.\".format(media))"
   ]
  },
  {
   "cell_type": "markdown",
   "id": "486ea5f8",
   "metadata": {
    "slideshow": {
     "slide_type": "fragment"
    }
   },
   "source": [
    "Todo restaurante, embora por lei não possa obrigar o cliente a\n",
    "pagar, cobra 10% do valor da conta como taxa de serviço. Elabore\n",
    "um algoritmo e um fluxograma que leia o valor gasto com as\n",
    "despesas realizadas em um restaurante e exiba o valor total com a\n",
    "taxa de serviço (conforme exemplo).\n",
    "Por favor digite o valor da conta (em reais): 75\n",
    "Valor da taxa de serviço: 7.5 reais\n",
    "Valor total da conta (com taxa de serviço): 82.5 reais"
   ]
  },
  {
   "cell_type": "code",
   "execution_count": null,
   "id": "169a1d51",
   "metadata": {},
   "outputs": [],
   "source": [
    "conta = float(input(\"Digite o valor total da conta:\"))"
   ]
  },
  {
   "cell_type": "code",
   "execution_count": null,
   "id": "b1abdeb8",
   "metadata": {},
   "outputs": [],
   "source": [
    "taxa = conta*0.10\n",
    "\n",
    "print(\"O valor da taxa de serviço é de {} reais.\".format(taxa))"
   ]
  },
  {
   "cell_type": "code",
   "execution_count": null,
   "id": "7024fa56",
   "metadata": {},
   "outputs": [],
   "source": [
    "valor_final = conta+taxa\n",
    "\n",
    "print(\"O valor total da conta é de {} reais.\".format(valor_final))"
   ]
  },
  {
   "cell_type": "markdown",
   "id": "9fdca8a3",
   "metadata": {
    "slideshow": {
     "slide_type": "fragment"
    }
   },
   "source": [
    "Escreva um algoritmo e monte um fluxograma que leia as dimensões de um terreno (largura e profundidade) e calcule sua \n",
    "área."
   ]
  },
  {
   "cell_type": "code",
   "execution_count": null,
   "id": "8719b5e7",
   "metadata": {},
   "outputs": [],
   "source": [
    "largura = float(input(\"Digite a largura:\"))\n",
    "profundidade = float(input(\"Digite a profundidade:\"))\n",
    "\n",
    "area = int(largura * profundidade)\n",
    "\n",
    "print(\"A área do terreno é de {} metros quadrados.\".format(area))"
   ]
  },
  {
   "cell_type": "markdown",
   "id": "69ddeea4",
   "metadata": {},
   "source": [
    "Faça um algoritmo e um fluxograma que leia a idade de uma pessoa expressa em anos, meses e dias e mostre-a \n",
    "expressa apenas em dias. A idade deve ser digitada considerando três variáveis inteiras.\n"
   ]
  },
  {
   "cell_type": "code",
   "execution_count": 1,
   "id": "6340661f",
   "metadata": {},
   "outputs": [
    {
     "name": "stdout",
     "output_type": "stream",
     "text": [
      "Digite a idade em anos:10\n"
     ]
    }
   ],
   "source": [
    "ano = int(input(\"Digite a idade em anos:\"))"
   ]
  },
  {
   "cell_type": "code",
   "execution_count": 2,
   "id": "a9270653",
   "metadata": {},
   "outputs": [
    {
     "name": "stdout",
     "output_type": "stream",
     "text": [
      "Digite a idade em meses:2\n"
     ]
    }
   ],
   "source": [
    "meses = int(input(\"Digite a idade em meses:\"))"
   ]
  },
  {
   "cell_type": "code",
   "execution_count": 3,
   "id": "01a22508",
   "metadata": {},
   "outputs": [
    {
     "name": "stdout",
     "output_type": "stream",
     "text": [
      "Digite a idade em dias:15\n"
     ]
    }
   ],
   "source": [
    "dias = int(input(\"Digite a idade em dias:\"))"
   ]
  },
  {
   "cell_type": "code",
   "execution_count": 4,
   "id": "d4be976a",
   "metadata": {},
   "outputs": [],
   "source": [
    "idade = ano*365+meses*30+dias"
   ]
  },
  {
   "cell_type": "code",
   "execution_count": 5,
   "id": "43e01b75",
   "metadata": {},
   "outputs": [
    {
     "name": "stdout",
     "output_type": "stream",
     "text": [
      "A idade é de 3725 dias de idade.\n"
     ]
    }
   ],
   "source": [
    "print(\"A idade é de {} dias de idade.\".format(idade))"
   ]
  },
  {
   "cell_type": "markdown",
   "id": "c7607374",
   "metadata": {
    "slideshow": {
     "slide_type": "fragment"
    }
   },
   "source": [
    " Uma fazenda adquiriu animais para o trabalho diário e também para produção de leite e lã. Foram \n",
    "adquiridos cavalos, vacas e ovelhas.\n",
    "A quantidade de cada animal deve ser informada no algoritmo. Após, deve ser calculado e \n",
    "apresentado as seguintes informações:\n",
    " Volume diário, semanal e mensal de leite produzido, considerando que cada vaca produz, na \n",
    "média, 3,2 litros/dia.\n",
    " Volume, em quilos, de lã produzida, estimando para isso que cada ovelha produza 2,3 quilos \n",
    "de lã a cada tosquia (retirada da lã da ovelha).\n",
    " Quantidade de ferraduras necessárias para equipar toda a tropa de cavalos"
   ]
  }
 ],
 "metadata": {
  "celltoolbar": "Slideshow",
  "kernelspec": {
   "display_name": "Python 3 (ipykernel)",
   "language": "python",
   "name": "python3"
  },
  "language_info": {
   "codemirror_mode": {
    "name": "ipython",
    "version": 3
   },
   "file_extension": ".py",
   "mimetype": "text/x-python",
   "name": "python",
   "nbconvert_exporter": "python",
   "pygments_lexer": "ipython3",
   "version": "3.9.12"
  }
 },
 "nbformat": 4,
 "nbformat_minor": 5
}
